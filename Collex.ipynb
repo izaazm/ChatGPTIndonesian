{
  "cells": [
    {
      "cell_type": "code",
      "execution_count": null,
      "metadata": {
        "colab": {
          "base_uri": "https://localhost:8080/"
        },
        "id": "mmWW1Q0_eWsD",
        "outputId": "94fa4f41-9347-4c75-b5a6-551fee7b4e6f"
      },
      "outputs": [
        {
          "output_type": "stream",
          "name": "stdout",
          "text": [
            "Looking in indexes: https://pypi.org/simple, https://us-python.pkg.dev/colab-wheels/public/simple/\n",
            "Collecting openai\n",
            "  Downloading openai-0.27.6-py3-none-any.whl (71 kB)\n",
            "\u001b[2K     \u001b[90m━━━━━━━━━━━━━━━━━━━━━━━━━━━━━━━━━━━━━━━━\u001b[0m \u001b[32m71.9/71.9 kB\u001b[0m \u001b[31m2.6 MB/s\u001b[0m eta \u001b[36m0:00:00\u001b[0m\n",
            "\u001b[?25hCollecting aiohttp\n",
            "  Downloading aiohttp-3.8.4-cp310-cp310-manylinux_2_17_x86_64.manylinux2014_x86_64.whl (1.0 MB)\n",
            "\u001b[2K     \u001b[90m━━━━━━━━━━━━━━━━━━━━━━━━━━━━━━━━━━━━━━━━\u001b[0m \u001b[32m1.0/1.0 MB\u001b[0m \u001b[31m17.2 MB/s\u001b[0m eta \u001b[36m0:00:00\u001b[0m\n",
            "\u001b[?25hRequirement already satisfied: requests>=2.20 in /usr/local/lib/python3.10/dist-packages (from openai) (2.27.1)\n",
            "Requirement already satisfied: tqdm in /usr/local/lib/python3.10/dist-packages (from openai) (4.65.0)\n",
            "Requirement already satisfied: idna<4,>=2.5 in /usr/local/lib/python3.10/dist-packages (from requests>=2.20->openai) (3.4)\n",
            "Requirement already satisfied: certifi>=2017.4.17 in /usr/local/lib/python3.10/dist-packages (from requests>=2.20->openai) (2022.12.7)\n",
            "Requirement already satisfied: urllib3<1.27,>=1.21.1 in /usr/local/lib/python3.10/dist-packages (from requests>=2.20->openai) (1.26.15)\n",
            "Requirement already satisfied: charset-normalizer~=2.0.0 in /usr/local/lib/python3.10/dist-packages (from requests>=2.20->openai) (2.0.12)\n",
            "Collecting frozenlist>=1.1.1\n",
            "  Downloading frozenlist-1.3.3-cp310-cp310-manylinux_2_5_x86_64.manylinux1_x86_64.manylinux_2_17_x86_64.manylinux2014_x86_64.whl (149 kB)\n",
            "\u001b[2K     \u001b[90m━━━━━━━━━━━━━━━━━━━━━━━━━━━━━━━━━━━━━━━\u001b[0m \u001b[32m149.6/149.6 kB\u001b[0m \u001b[31m9.9 MB/s\u001b[0m eta \u001b[36m0:00:00\u001b[0m\n",
            "\u001b[?25hCollecting multidict<7.0,>=4.5\n",
            "  Downloading multidict-6.0.4-cp310-cp310-manylinux_2_17_x86_64.manylinux2014_x86_64.whl (114 kB)\n",
            "\u001b[2K     \u001b[90m━━━━━━━━━━━━━━━━━━━━━━━━━━━━━━━━━━━━━━━\u001b[0m \u001b[32m114.5/114.5 kB\u001b[0m \u001b[31m1.0 MB/s\u001b[0m eta \u001b[36m0:00:00\u001b[0m\n",
            "\u001b[?25hRequirement already satisfied: attrs>=17.3.0 in /usr/local/lib/python3.10/dist-packages (from aiohttp->openai) (23.1.0)\n",
            "Collecting async-timeout<5.0,>=4.0.0a3\n",
            "  Downloading async_timeout-4.0.2-py3-none-any.whl (5.8 kB)\n",
            "Collecting yarl<2.0,>=1.0\n",
            "  Downloading yarl-1.9.2-cp310-cp310-manylinux_2_17_x86_64.manylinux2014_x86_64.whl (268 kB)\n",
            "\u001b[2K     \u001b[90m━━━━━━━━━━━━━━━━━━━━━━━━━━━━━━━━━━━━━━\u001b[0m \u001b[32m268.8/268.8 kB\u001b[0m \u001b[31m10.6 MB/s\u001b[0m eta \u001b[36m0:00:00\u001b[0m\n",
            "\u001b[?25hCollecting aiosignal>=1.1.2\n",
            "  Downloading aiosignal-1.3.1-py3-none-any.whl (7.6 kB)\n",
            "Installing collected packages: multidict, frozenlist, async-timeout, yarl, aiosignal, aiohttp, openai\n",
            "Successfully installed aiohttp-3.8.4 aiosignal-1.3.1 async-timeout-4.0.2 frozenlist-1.3.3 multidict-6.0.4 openai-0.27.6 yarl-1.9.2\n",
            "Looking in indexes: https://pypi.org/simple, https://us-python.pkg.dev/colab-wheels/public/simple/\n",
            "Requirement already satisfied: requests in /usr/local/lib/python3.10/dist-packages (2.27.1)\n",
            "Requirement already satisfied: charset-normalizer~=2.0.0 in /usr/local/lib/python3.10/dist-packages (from requests) (2.0.12)\n",
            "Requirement already satisfied: urllib3<1.27,>=1.21.1 in /usr/local/lib/python3.10/dist-packages (from requests) (1.26.15)\n",
            "Requirement already satisfied: certifi>=2017.4.17 in /usr/local/lib/python3.10/dist-packages (from requests) (2022.12.7)\n",
            "Requirement already satisfied: idna<4,>=2.5 in /usr/local/lib/python3.10/dist-packages (from requests) (3.4)\n"
          ]
        }
      ],
      "source": [
        "!pip install openai\n",
        "!pip install requests"
      ]
    },
    {
      "cell_type": "code",
      "execution_count": null,
      "metadata": {
        "colab": {
          "base_uri": "https://localhost:8080/"
        },
        "id": "wKTVHFuDedOP",
        "outputId": "2f55df59-2c85-4f94-854d-a177a53b05c4"
      },
      "outputs": [
        {
          "output_type": "stream",
          "name": "stdout",
          "text": [
            "Mounted at /content/drive\n"
          ]
        }
      ],
      "source": [
        "import openai\n",
        "api_key_ijas = \"\"\n",
        "api_key_eyza = \"\"\n",
        "\n",
        "import re\n",
        "import pandas as pd\n",
        "from google.colab import drive\n",
        "drive.mount('/content/drive')\n",
        "from time import sleep\n",
        "import numpy as np\n",
        "root =  '/content/drive/MyDrive/ChatGPT'"
      ]
    },
    {
      "cell_type": "code",
      "execution_count": null,
      "metadata": {
        "id": "9YFuGbXregF_"
      },
      "outputs": [],
      "source": [
        "openai.organization = \"\" # KAIST(VOICES) organization\n",
        "openai.api_key = api_key_ijas # janlup ganti"
      ]
    },
    {
      "cell_type": "code",
      "execution_count": null,
      "metadata": {
        "colab": {
          "base_uri": "https://localhost:8080/",
          "height": 424
        },
        "id": "6sAsxIUBegRC",
        "outputId": "ac17590d-b44a-453b-92b5-d0a8771bccd7"
      },
      "outputs": [
        {
          "output_type": "execute_result",
          "data": {
            "text/plain": [
              "        no     transformed   original-for transformation\n",
              "0       19           sampe         sampai    sound-alter\n",
              "1       29             dgn         dengan  disemvoweling\n",
              "2       32             org          orang  disemvoweling\n",
              "3       34           karna         karena  disemvoweling\n",
              "4       35              tu            itu  disemvoweling\n",
              "...    ...             ...            ...            ...\n",
              "2120   947            inii            ini    sound-alter\n",
              "2121  1266  alhamdulillaah  alhamdulillah    sound-alter\n",
              "2122     x             bls          balas  disemvoweling\n",
              "2123    37          disini        di sini     space-dash\n",
              "2124     x       gamasalah     ga masalah     space-dash\n",
              "\n",
              "[2125 rows x 4 columns]"
            ],
            "text/html": [
              "\n",
              "  <div id=\"df-9f1052ea-d716-4445-8a84-b78b04e8e38c\">\n",
              "    <div class=\"colab-df-container\">\n",
              "      <div>\n",
              "<style scoped>\n",
              "    .dataframe tbody tr th:only-of-type {\n",
              "        vertical-align: middle;\n",
              "    }\n",
              "\n",
              "    .dataframe tbody tr th {\n",
              "        vertical-align: top;\n",
              "    }\n",
              "\n",
              "    .dataframe thead th {\n",
              "        text-align: right;\n",
              "    }\n",
              "</style>\n",
              "<table border=\"1\" class=\"dataframe\">\n",
              "  <thead>\n",
              "    <tr style=\"text-align: right;\">\n",
              "      <th></th>\n",
              "      <th>no</th>\n",
              "      <th>transformed</th>\n",
              "      <th>original-for</th>\n",
              "      <th>transformation</th>\n",
              "    </tr>\n",
              "  </thead>\n",
              "  <tbody>\n",
              "    <tr>\n",
              "      <th>0</th>\n",
              "      <td>19</td>\n",
              "      <td>sampe</td>\n",
              "      <td>sampai</td>\n",
              "      <td>sound-alter</td>\n",
              "    </tr>\n",
              "    <tr>\n",
              "      <th>1</th>\n",
              "      <td>29</td>\n",
              "      <td>dgn</td>\n",
              "      <td>dengan</td>\n",
              "      <td>disemvoweling</td>\n",
              "    </tr>\n",
              "    <tr>\n",
              "      <th>2</th>\n",
              "      <td>32</td>\n",
              "      <td>org</td>\n",
              "      <td>orang</td>\n",
              "      <td>disemvoweling</td>\n",
              "    </tr>\n",
              "    <tr>\n",
              "      <th>3</th>\n",
              "      <td>34</td>\n",
              "      <td>karna</td>\n",
              "      <td>karena</td>\n",
              "      <td>disemvoweling</td>\n",
              "    </tr>\n",
              "    <tr>\n",
              "      <th>4</th>\n",
              "      <td>35</td>\n",
              "      <td>tu</td>\n",
              "      <td>itu</td>\n",
              "      <td>disemvoweling</td>\n",
              "    </tr>\n",
              "    <tr>\n",
              "      <th>...</th>\n",
              "      <td>...</td>\n",
              "      <td>...</td>\n",
              "      <td>...</td>\n",
              "      <td>...</td>\n",
              "    </tr>\n",
              "    <tr>\n",
              "      <th>2120</th>\n",
              "      <td>947</td>\n",
              "      <td>inii</td>\n",
              "      <td>ini</td>\n",
              "      <td>sound-alter</td>\n",
              "    </tr>\n",
              "    <tr>\n",
              "      <th>2121</th>\n",
              "      <td>1266</td>\n",
              "      <td>alhamdulillaah</td>\n",
              "      <td>alhamdulillah</td>\n",
              "      <td>sound-alter</td>\n",
              "    </tr>\n",
              "    <tr>\n",
              "      <th>2122</th>\n",
              "      <td>x</td>\n",
              "      <td>bls</td>\n",
              "      <td>balas</td>\n",
              "      <td>disemvoweling</td>\n",
              "    </tr>\n",
              "    <tr>\n",
              "      <th>2123</th>\n",
              "      <td>37</td>\n",
              "      <td>disini</td>\n",
              "      <td>di sini</td>\n",
              "      <td>space-dash</td>\n",
              "    </tr>\n",
              "    <tr>\n",
              "      <th>2124</th>\n",
              "      <td>x</td>\n",
              "      <td>gamasalah</td>\n",
              "      <td>ga masalah</td>\n",
              "      <td>space-dash</td>\n",
              "    </tr>\n",
              "  </tbody>\n",
              "</table>\n",
              "<p>2125 rows × 4 columns</p>\n",
              "</div>\n",
              "      <button class=\"colab-df-convert\" onclick=\"convertToInteractive('df-9f1052ea-d716-4445-8a84-b78b04e8e38c')\"\n",
              "              title=\"Convert this dataframe to an interactive table.\"\n",
              "              style=\"display:none;\">\n",
              "        \n",
              "  <svg xmlns=\"http://www.w3.org/2000/svg\" height=\"24px\"viewBox=\"0 0 24 24\"\n",
              "       width=\"24px\">\n",
              "    <path d=\"M0 0h24v24H0V0z\" fill=\"none\"/>\n",
              "    <path d=\"M18.56 5.44l.94 2.06.94-2.06 2.06-.94-2.06-.94-.94-2.06-.94 2.06-2.06.94zm-11 1L8.5 8.5l.94-2.06 2.06-.94-2.06-.94L8.5 2.5l-.94 2.06-2.06.94zm10 10l.94 2.06.94-2.06 2.06-.94-2.06-.94-.94-2.06-.94 2.06-2.06.94z\"/><path d=\"M17.41 7.96l-1.37-1.37c-.4-.4-.92-.59-1.43-.59-.52 0-1.04.2-1.43.59L10.3 9.45l-7.72 7.72c-.78.78-.78 2.05 0 2.83L4 21.41c.39.39.9.59 1.41.59.51 0 1.02-.2 1.41-.59l7.78-7.78 2.81-2.81c.8-.78.8-2.07 0-2.86zM5.41 20L4 18.59l7.72-7.72 1.47 1.35L5.41 20z\"/>\n",
              "  </svg>\n",
              "      </button>\n",
              "      \n",
              "  <style>\n",
              "    .colab-df-container {\n",
              "      display:flex;\n",
              "      flex-wrap:wrap;\n",
              "      gap: 12px;\n",
              "    }\n",
              "\n",
              "    .colab-df-convert {\n",
              "      background-color: #E8F0FE;\n",
              "      border: none;\n",
              "      border-radius: 50%;\n",
              "      cursor: pointer;\n",
              "      display: none;\n",
              "      fill: #1967D2;\n",
              "      height: 32px;\n",
              "      padding: 0 0 0 0;\n",
              "      width: 32px;\n",
              "    }\n",
              "\n",
              "    .colab-df-convert:hover {\n",
              "      background-color: #E2EBFA;\n",
              "      box-shadow: 0px 1px 2px rgba(60, 64, 67, 0.3), 0px 1px 3px 1px rgba(60, 64, 67, 0.15);\n",
              "      fill: #174EA6;\n",
              "    }\n",
              "\n",
              "    [theme=dark] .colab-df-convert {\n",
              "      background-color: #3B4455;\n",
              "      fill: #D2E3FC;\n",
              "    }\n",
              "\n",
              "    [theme=dark] .colab-df-convert:hover {\n",
              "      background-color: #434B5C;\n",
              "      box-shadow: 0px 1px 3px 1px rgba(0, 0, 0, 0.15);\n",
              "      filter: drop-shadow(0px 1px 2px rgba(0, 0, 0, 0.3));\n",
              "      fill: #FFFFFF;\n",
              "    }\n",
              "  </style>\n",
              "\n",
              "      <script>\n",
              "        const buttonEl =\n",
              "          document.querySelector('#df-9f1052ea-d716-4445-8a84-b78b04e8e38c button.colab-df-convert');\n",
              "        buttonEl.style.display =\n",
              "          google.colab.kernel.accessAllowed ? 'block' : 'none';\n",
              "\n",
              "        async function convertToInteractive(key) {\n",
              "          const element = document.querySelector('#df-9f1052ea-d716-4445-8a84-b78b04e8e38c');\n",
              "          const dataTable =\n",
              "            await google.colab.kernel.invokeFunction('convertToInteractive',\n",
              "                                                     [key], {});\n",
              "          if (!dataTable) return;\n",
              "\n",
              "          const docLinkHtml = 'Like what you see? Visit the ' +\n",
              "            '<a target=\"_blank\" href=https://colab.research.google.com/notebooks/data_table.ipynb>data table notebook</a>'\n",
              "            + ' to learn more about interactive tables.';\n",
              "          element.innerHTML = '';\n",
              "          dataTable['output_type'] = 'display_data';\n",
              "          await google.colab.output.renderOutput(dataTable, element);\n",
              "          const docLink = document.createElement('div');\n",
              "          docLink.innerHTML = docLinkHtml;\n",
              "          element.appendChild(docLink);\n",
              "        }\n",
              "      </script>\n",
              "    </div>\n",
              "  </div>\n",
              "  "
            ]
          },
          "metadata": {},
          "execution_count": 3
        }
      ],
      "source": [
        "df = pd.read_csv('/content/drive/MyDrive/ChatGPT/IndoCollex.csv')\n",
        "for column in df.columns:\n",
        "    if column == \"no\":\n",
        "        continue\n",
        "    else:\n",
        "        df[column] = df[column].astype(pd.StringDtype()) \n",
        "\n",
        "df"
      ]
    },
    {
      "cell_type": "code",
      "execution_count": null,
      "metadata": {
        "colab": {
          "base_uri": "https://localhost:8080/"
        },
        "id": "bRcqjBCcczrF",
        "outputId": "e71b0445-24e9-460c-db1f-f670017daf40"
      },
      "outputs": [
        {
          "output_type": "execute_result",
          "data": {
            "text/plain": [
              "transformation\n",
              "sound-alter       626\n",
              "disemvoweling     418\n",
              "affixation        332\n",
              "space-dash        288\n",
              "shorten           228\n",
              "acronym           190\n",
              "rev                43\n",
              "dtype: int64"
            ]
          },
          "metadata": {},
          "execution_count": 27
        }
      ],
      "source": [
        "df.value_counts([\"transformation\"])"
      ]
    },
    {
      "cell_type": "markdown",
      "metadata": {
        "id": "DlzuSixln5lY"
      },
      "source": [
        "## Util"
      ]
    },
    {
      "cell_type": "code",
      "execution_count": null,
      "metadata": {
        "id": "XhAMVchMX3T_"
      },
      "outputs": [],
      "source": [
        "def infer(order, questions, iteration, try_read = False, path=None, temp=0.0):\n",
        "    try:\n",
        "      if try_read:\n",
        "        collect = pd.read_csv(path)\n",
        "      else:\n",
        "        collect = pd.DataFrame()\n",
        "    except FileNotFoundError:\n",
        "      collect = pd.DataFrame()\n",
        "    \n",
        "    question_len = len(questions)\n",
        "    while len(collect.columns) < iteration:\n",
        "      now = list()\n",
        "\n",
        "      for i, q in enumerate(questions):\n",
        "        tries = 0\n",
        "        while(1):\n",
        "          try:\n",
        "            response = openai.ChatCompletion.create(model=\"gpt-3.5-turbo\",\n",
        "                                                    temperature=temp,\n",
        "                                                    messages=[{\"role\": \"system\", \"content\": \"Anda adalah ChatGPT.\"},\n",
        "                                                              {\"role\": \"user\", \"content\": f\"{order}.\\n {q}.\"}])\n",
        "            \n",
        "            if i % (question_len//10) == 0:\n",
        "              print(f'Question {i+1}/{question_len} Completed')\n",
        "\n",
        "            now.append(response['choices'][0]['message']['content'])\n",
        "            #print(response['choices'][0]['message']['content'])\n",
        "            break\n",
        "\n",
        "          except:\n",
        "            if tries > 3:\n",
        "              print('More than 3 tries, terminating')\n",
        "              break\n",
        "\n",
        "            tries += 1\n",
        "            print(f'RateLimitError {tries}, waiting')\n",
        "            sleep(60*tries)\n",
        "            \n",
        "        if tries > 3:\n",
        "          break\n",
        "      if tries > 3:\n",
        "        break\n",
        "\n",
        "      print(f'Iteration {len(collect.columns)+1} Completed')\n",
        "      collect[len(collect.columns)+1] = now\n",
        "      sleep(120)\n",
        "\n",
        "    return collect"
      ]
    },
    {
      "cell_type": "code",
      "execution_count": null,
      "metadata": {
        "id": "M_p4R1wkVZIv"
      },
      "outputs": [],
      "source": [
        "def clean(x):\n",
        "  return ''.join(re.findall(r'(?:\\w* ?)+', x)).lower()"
      ]
    },
    {
      "cell_type": "code",
      "execution_count": null,
      "metadata": {
        "id": "tf5lDOoMVuyJ"
      },
      "outputs": [],
      "source": [
        "def accuracy(inf, ans):\n",
        "  correct = 0\n",
        "  for a, b in zip(inf, ans):\n",
        "    if b.lower() in a.lower(): correct+=1\n",
        "  return correct/len(inf)\n",
        "\n",
        "def eval(res, df):\n",
        "  res['clean'] = res['1'].apply(clean)\n",
        "  print('overall:', accuracy(res['clean'], df['original-for']))\n",
        "  for trans in desc.keys():\n",
        "    inf = res.loc[df['transformation'] == trans]\n",
        "    ans = df.loc[df['transformation'] == trans]\n",
        "    print(f'{trans}:', accuracy(inf['clean'], ans['original-for']))"
      ]
    },
    {
      "cell_type": "code",
      "execution_count": null,
      "metadata": {
        "id": "n3pCb18PkLqF"
      },
      "outputs": [],
      "source": [
        "desc = {\n",
        "    \"disemvoweling\":\"menghapus beberapa atau semua vokal\",\n",
        "    \"affixation\":\"memodifikasi, menambah, atau menghilangkan afiks\",\n",
        "    \"shorten\":\"memendekkan dari kata aslinya\",\n",
        "    \"space-dash\":\"menghapus spasi/tanda hubung\",\n",
        "    \"sound-alter\":\"sedikit merubah baik suara dan/atau ejaan dalam teks\",\n",
        "    \"acronym\":\"menggabungkan huruf atau suku kata dari satu atau lebih kata yang mirip dengan akronim, singkatan, dan portmanteau\",\n",
        "    \"rev\":\"membalikkan huruf, atau biasa dikenal sebagai 'Boso Walikan'\"\n",
        "}"
      ]
    },
    {
      "cell_type": "code",
      "execution_count": null,
      "metadata": {
        "id": "qxWhOU8qVRJg"
      },
      "outputs": [],
      "source": [
        "examples = {\n",
        "    \"disemvoweling\":\"kemarin -> kmrn, belum -> blum, besok -> bsk\",\n",
        "    \"affixation\":\"menyanyikan -> nyanyiin, mengabari -> ngabarin\",\n",
        "    \"shorten\":\"sudah -> dah, internet -> inet, halusinasi -> halu\",\n",
        "    \"space-dash\":\"di rumah -> dirumah, terima kasih -> terimakasih, ibu-ibu -> ibu2\",\n",
        "    \"sound-alter\":\"pakai -> pake, pahit -> pait, aku -> akuh\",\n",
        "    \"acronym\":\"ibu hamil -> bumil, budak cinta -> bucin, anak baru gede -> abg\",\n",
        "    \"rev\":\"malang -> ngalam, bang -> ngab\"\n",
        "}"
      ]
    },
    {
      "cell_type": "markdown",
      "metadata": {
        "id": "4ffH7d8xjXy-"
      },
      "source": [
        "## Informal to Formal"
      ]
    },
    {
      "cell_type": "code",
      "execution_count": null,
      "metadata": {
        "colab": {
          "base_uri": "https://localhost:8080/"
        },
        "id": "XjCgM5SxVLpM",
        "outputId": "d7146a79-4e8a-4c29-d958-5f762029a0e7"
      },
      "outputs": [
        {
          "output_type": "stream",
          "name": "stdout",
          "text": [
            "Kata anda adalah 'dgn'\n",
            "Question 1/2125 Completed\n",
            "Question 213/2125 Completed\n",
            "Question 425/2125 Completed\n",
            "Question 637/2125 Completed\n",
            "Question 849/2125 Completed\n",
            "Question 1061/2125 Completed\n",
            "Question 1273/2125 Completed\n",
            "Question 1485/2125 Completed\n",
            "Question 1697/2125 Completed\n",
            "Question 1909/2125 Completed\n",
            "Question 2121/2125 Completed\n",
            "Iteration 1 Completed\n",
            "                                                      1\n",
            "0                                  Kata Formal: Sampai.\n",
            "1                                  Kata Formal: Dengan.\n",
            "2                              Kata Formal: Organisasi.\n",
            "3                                  Kata Formal: Karena.\n",
            "4                                     Kata Formal: itu.\n",
            "...                                                 ...\n",
            "2120  Kata Formal: Tidak ada. 'inii' bukanlah kata f...\n",
            "2121                        Kata Formal: Alhamdulillah.\n",
            "2122                                Kata Formal: Balas.\n",
            "2123                              Kata Formal: Di sini.\n",
            "2124  Kata Formal: Tidak ada. Kata \"gamasalah\" tidak...\n",
            "\n",
            "[2125 rows x 1 columns]\n"
          ]
        }
      ],
      "source": [
        "infer_IF = True\n",
        "if infer_IF:\n",
        "    order = \"Buatlah bentuk formal dari sebuah kata berikut. Jawablah hanya dengan kata formal yang dimaksud dan jangan berikan penjelasan dari jawaban anda. Jawab dengan format 'Kata Formal: <jawaban>'\"\n",
        "    words = df['transformed'].values\n",
        "\n",
        "    questions = []\n",
        "\n",
        "    for i in range(len(words)):\n",
        "        questions.append(f\"Kata anda adalah '{words[i]}'\")\n",
        "\n",
        "    print(questions[1])\n",
        "\n",
        "    res = infer(order=order, \n",
        "                questions=questions, \n",
        "                iteration=1)\n",
        "\n",
        "    print(res)\n",
        "    res.to_csv('/content/drive/MyDrive/ChatGPT/formal_inferred_3.csv')"
      ]
    },
    {
      "cell_type": "markdown",
      "metadata": {
        "id": "gt_zgcOye7ly"
      },
      "source": [
        "### Accuracy Check"
      ]
    },
    {
      "cell_type": "code",
      "execution_count": null,
      "metadata": {
        "colab": {
          "base_uri": "https://localhost:8080/",
          "height": 424
        },
        "id": "lQm_-IeUfDve",
        "outputId": "258f954f-8a2c-4915-f8f7-cc3035be5672"
      },
      "outputs": [
        {
          "output_type": "execute_result",
          "data": {
            "text/plain": [
              "      Unnamed: 0                                                  1\n",
              "0              0                               Kata Formal: Sampai.\n",
              "1              1                               Kata Formal: Dengan.\n",
              "2              2                           Kata Formal: Organisasi.\n",
              "3              3                               Kata Formal: Karena.\n",
              "4              4                                  Kata Formal: itu.\n",
              "...          ...                                                ...\n",
              "2120        2120  Kata Formal: Tidak ada. 'inii' bukanlah kata f...\n",
              "2121        2121                        Kata Formal: Alhamdulillah.\n",
              "2122        2122                                Kata Formal: Balas.\n",
              "2123        2123                              Kata Formal: Di sini.\n",
              "2124        2124  Kata Formal: Tidak ada. Kata \"gamasalah\" tidak...\n",
              "\n",
              "[2125 rows x 2 columns]"
            ],
            "text/html": [
              "\n",
              "  <div id=\"df-8529e83c-4dda-4045-8462-a15401731f93\">\n",
              "    <div class=\"colab-df-container\">\n",
              "      <div>\n",
              "<style scoped>\n",
              "    .dataframe tbody tr th:only-of-type {\n",
              "        vertical-align: middle;\n",
              "    }\n",
              "\n",
              "    .dataframe tbody tr th {\n",
              "        vertical-align: top;\n",
              "    }\n",
              "\n",
              "    .dataframe thead th {\n",
              "        text-align: right;\n",
              "    }\n",
              "</style>\n",
              "<table border=\"1\" class=\"dataframe\">\n",
              "  <thead>\n",
              "    <tr style=\"text-align: right;\">\n",
              "      <th></th>\n",
              "      <th>Unnamed: 0</th>\n",
              "      <th>1</th>\n",
              "    </tr>\n",
              "  </thead>\n",
              "  <tbody>\n",
              "    <tr>\n",
              "      <th>0</th>\n",
              "      <td>0</td>\n",
              "      <td>Kata Formal: Sampai.</td>\n",
              "    </tr>\n",
              "    <tr>\n",
              "      <th>1</th>\n",
              "      <td>1</td>\n",
              "      <td>Kata Formal: Dengan.</td>\n",
              "    </tr>\n",
              "    <tr>\n",
              "      <th>2</th>\n",
              "      <td>2</td>\n",
              "      <td>Kata Formal: Organisasi.</td>\n",
              "    </tr>\n",
              "    <tr>\n",
              "      <th>3</th>\n",
              "      <td>3</td>\n",
              "      <td>Kata Formal: Karena.</td>\n",
              "    </tr>\n",
              "    <tr>\n",
              "      <th>4</th>\n",
              "      <td>4</td>\n",
              "      <td>Kata Formal: itu.</td>\n",
              "    </tr>\n",
              "    <tr>\n",
              "      <th>...</th>\n",
              "      <td>...</td>\n",
              "      <td>...</td>\n",
              "    </tr>\n",
              "    <tr>\n",
              "      <th>2120</th>\n",
              "      <td>2120</td>\n",
              "      <td>Kata Formal: Tidak ada. 'inii' bukanlah kata f...</td>\n",
              "    </tr>\n",
              "    <tr>\n",
              "      <th>2121</th>\n",
              "      <td>2121</td>\n",
              "      <td>Kata Formal: Alhamdulillah.</td>\n",
              "    </tr>\n",
              "    <tr>\n",
              "      <th>2122</th>\n",
              "      <td>2122</td>\n",
              "      <td>Kata Formal: Balas.</td>\n",
              "    </tr>\n",
              "    <tr>\n",
              "      <th>2123</th>\n",
              "      <td>2123</td>\n",
              "      <td>Kata Formal: Di sini.</td>\n",
              "    </tr>\n",
              "    <tr>\n",
              "      <th>2124</th>\n",
              "      <td>2124</td>\n",
              "      <td>Kata Formal: Tidak ada. Kata \"gamasalah\" tidak...</td>\n",
              "    </tr>\n",
              "  </tbody>\n",
              "</table>\n",
              "<p>2125 rows × 2 columns</p>\n",
              "</div>\n",
              "      <button class=\"colab-df-convert\" onclick=\"convertToInteractive('df-8529e83c-4dda-4045-8462-a15401731f93')\"\n",
              "              title=\"Convert this dataframe to an interactive table.\"\n",
              "              style=\"display:none;\">\n",
              "        \n",
              "  <svg xmlns=\"http://www.w3.org/2000/svg\" height=\"24px\"viewBox=\"0 0 24 24\"\n",
              "       width=\"24px\">\n",
              "    <path d=\"M0 0h24v24H0V0z\" fill=\"none\"/>\n",
              "    <path d=\"M18.56 5.44l.94 2.06.94-2.06 2.06-.94-2.06-.94-.94-2.06-.94 2.06-2.06.94zm-11 1L8.5 8.5l.94-2.06 2.06-.94-2.06-.94L8.5 2.5l-.94 2.06-2.06.94zm10 10l.94 2.06.94-2.06 2.06-.94-2.06-.94-.94-2.06-.94 2.06-2.06.94z\"/><path d=\"M17.41 7.96l-1.37-1.37c-.4-.4-.92-.59-1.43-.59-.52 0-1.04.2-1.43.59L10.3 9.45l-7.72 7.72c-.78.78-.78 2.05 0 2.83L4 21.41c.39.39.9.59 1.41.59.51 0 1.02-.2 1.41-.59l7.78-7.78 2.81-2.81c.8-.78.8-2.07 0-2.86zM5.41 20L4 18.59l7.72-7.72 1.47 1.35L5.41 20z\"/>\n",
              "  </svg>\n",
              "      </button>\n",
              "      \n",
              "  <style>\n",
              "    .colab-df-container {\n",
              "      display:flex;\n",
              "      flex-wrap:wrap;\n",
              "      gap: 12px;\n",
              "    }\n",
              "\n",
              "    .colab-df-convert {\n",
              "      background-color: #E8F0FE;\n",
              "      border: none;\n",
              "      border-radius: 50%;\n",
              "      cursor: pointer;\n",
              "      display: none;\n",
              "      fill: #1967D2;\n",
              "      height: 32px;\n",
              "      padding: 0 0 0 0;\n",
              "      width: 32px;\n",
              "    }\n",
              "\n",
              "    .colab-df-convert:hover {\n",
              "      background-color: #E2EBFA;\n",
              "      box-shadow: 0px 1px 2px rgba(60, 64, 67, 0.3), 0px 1px 3px 1px rgba(60, 64, 67, 0.15);\n",
              "      fill: #174EA6;\n",
              "    }\n",
              "\n",
              "    [theme=dark] .colab-df-convert {\n",
              "      background-color: #3B4455;\n",
              "      fill: #D2E3FC;\n",
              "    }\n",
              "\n",
              "    [theme=dark] .colab-df-convert:hover {\n",
              "      background-color: #434B5C;\n",
              "      box-shadow: 0px 1px 3px 1px rgba(0, 0, 0, 0.15);\n",
              "      filter: drop-shadow(0px 1px 2px rgba(0, 0, 0, 0.3));\n",
              "      fill: #FFFFFF;\n",
              "    }\n",
              "  </style>\n",
              "\n",
              "      <script>\n",
              "        const buttonEl =\n",
              "          document.querySelector('#df-8529e83c-4dda-4045-8462-a15401731f93 button.colab-df-convert');\n",
              "        buttonEl.style.display =\n",
              "          google.colab.kernel.accessAllowed ? 'block' : 'none';\n",
              "\n",
              "        async function convertToInteractive(key) {\n",
              "          const element = document.querySelector('#df-8529e83c-4dda-4045-8462-a15401731f93');\n",
              "          const dataTable =\n",
              "            await google.colab.kernel.invokeFunction('convertToInteractive',\n",
              "                                                     [key], {});\n",
              "          if (!dataTable) return;\n",
              "\n",
              "          const docLinkHtml = 'Like what you see? Visit the ' +\n",
              "            '<a target=\"_blank\" href=https://colab.research.google.com/notebooks/data_table.ipynb>data table notebook</a>'\n",
              "            + ' to learn more about interactive tables.';\n",
              "          element.innerHTML = '';\n",
              "          dataTable['output_type'] = 'display_data';\n",
              "          await google.colab.output.renderOutput(dataTable, element);\n",
              "          const docLink = document.createElement('div');\n",
              "          docLink.innerHTML = docLinkHtml;\n",
              "          element.appendChild(docLink);\n",
              "        }\n",
              "      </script>\n",
              "    </div>\n",
              "  </div>\n",
              "  "
            ]
          },
          "metadata": {},
          "execution_count": 34
        }
      ],
      "source": [
        "res = pd.read_csv('/content/drive/MyDrive/ChatGPT/formal_inferred_3.csv')\n",
        "res"
      ]
    },
    {
      "cell_type": "code",
      "execution_count": null,
      "metadata": {
        "colab": {
          "base_uri": "https://localhost:8080/"
        },
        "id": "4OYAtZWfkxD8",
        "outputId": "945677c1-b4a4-4a9f-baad-b1d4c027a603"
      },
      "outputs": [
        {
          "output_type": "stream",
          "name": "stdout",
          "text": [
            "overall: 0.3976470588235294\n",
            "disemvoweling: 0.5263157894736842\n",
            "affixation: 0.5451807228915663\n",
            "shorten: 0.25877192982456143\n",
            "space-dash: 0.18055555555555555\n",
            "sound-alter: 0.41054313099041534\n",
            "acronym: 0.39473684210526316\n",
            "rev: 0.023255813953488372\n"
          ]
        }
      ],
      "source": [
        "eval(res, df)"
      ]
    },
    {
      "cell_type": "markdown",
      "metadata": {
        "id": "QWWCOxzRjcXZ"
      },
      "source": [
        "## Formal to Informal"
      ]
    },
    {
      "cell_type": "markdown",
      "metadata": {
        "id": "1cUvfSX8jiXu"
      },
      "source": [
        "### Zero-Shot"
      ]
    },
    {
      "cell_type": "code",
      "execution_count": null,
      "metadata": {
        "colab": {
          "base_uri": "https://localhost:8080/"
        },
        "id": "Lh9dYxnDmdQ3",
        "outputId": "dfb2f946-e911-48ef-a232-6579c757e0d6"
      },
      "outputs": [
        {
          "output_type": "stream",
          "name": "stdout",
          "text": [
            "Ubah kata yang diberikan dengan menghapus beberapa atau semua vokal.\n",
            "Kata anda adalah 'dengan'\n",
            "Question 1/2125 Completed\n",
            "Question 213/2125 Completed\n",
            "Question 425/2125 Completed\n",
            "Question 637/2125 Completed\n",
            "Question 849/2125 Completed\n",
            "Question 1061/2125 Completed\n",
            "Question 1273/2125 Completed\n",
            "Question 1485/2125 Completed\n",
            "Question 1697/2125 Completed\n",
            "Question 1909/2125 Completed\n",
            "Question 2121/2125 Completed\n",
            "Iteration 1 Completed\n"
          ]
        }
      ],
      "source": [
        "infer_FI_0 = True\n",
        "if infer_FI_0:   \n",
        "    order = \"Buatlah bentuk informal yang sering dipakai dalam percakapan sehari-hari dari sebuah kata berikut. Jawablah hanya dengan kata informal yang dimaksud dan jangan berikan penjelasan dari jawaban anda. Jawab dengan format 'Kata Informal: <jawaban>'\"\n",
        "\n",
        "    words = df['original-for'].values\n",
        "    methods = df['transformation'].values\n",
        "    questions = []\n",
        "\n",
        "    for i in range(len(words)):\n",
        "        questions.append(f\"Ubah kata yang diberikan dengan {desc[methods[i]]}.\\nKata anda adalah '{words[i]}'\")\n",
        "\n",
        "    print(questions[1])\n",
        "\n",
        "    res = infer(order=order, \n",
        "                questions=questions, \n",
        "                iteration=1)\n",
        "\n",
        "    res\n",
        "    res.to_csv('/content/drive/MyDrive/ChatGPT/zero_shot_informal_inferred_3.csv')"
      ]
    },
    {
      "cell_type": "code",
      "execution_count": null,
      "metadata": {
        "colab": {
          "base_uri": "https://localhost:8080/",
          "height": 424
        },
        "id": "vVIazNR6p_m2",
        "outputId": "154713d7-2b6a-4b0f-b065-130ccf1e96bb"
      },
      "outputs": [
        {
          "output_type": "execute_result",
          "data": {
            "text/plain": [
              "      Unnamed: 0                          1\n",
              "0              0       Kata Informal: sampe\n",
              "1              1         Kata Informal: dgn\n",
              "2              2         Kata Informal: org\n",
              "3              3         Kata Informal: krn\n",
              "4              4          Kata Informal: t.\n",
              "...          ...                        ...\n",
              "2120        2120         Kata Informal: nih\n",
              "2121        2121  Kata Informal: Alhamdulah\n",
              "2122        2122         Kata Informal: bls\n",
              "2123        2123      Kata Informal: disini\n",
              "2124        2124      Kata Informal: gamas.\n",
              "\n",
              "[2125 rows x 2 columns]"
            ],
            "text/html": [
              "\n",
              "  <div id=\"df-4d429097-a026-4c19-9aaa-d19438b993ee\">\n",
              "    <div class=\"colab-df-container\">\n",
              "      <div>\n",
              "<style scoped>\n",
              "    .dataframe tbody tr th:only-of-type {\n",
              "        vertical-align: middle;\n",
              "    }\n",
              "\n",
              "    .dataframe tbody tr th {\n",
              "        vertical-align: top;\n",
              "    }\n",
              "\n",
              "    .dataframe thead th {\n",
              "        text-align: right;\n",
              "    }\n",
              "</style>\n",
              "<table border=\"1\" class=\"dataframe\">\n",
              "  <thead>\n",
              "    <tr style=\"text-align: right;\">\n",
              "      <th></th>\n",
              "      <th>Unnamed: 0</th>\n",
              "      <th>1</th>\n",
              "    </tr>\n",
              "  </thead>\n",
              "  <tbody>\n",
              "    <tr>\n",
              "      <th>0</th>\n",
              "      <td>0</td>\n",
              "      <td>Kata Informal: sampe</td>\n",
              "    </tr>\n",
              "    <tr>\n",
              "      <th>1</th>\n",
              "      <td>1</td>\n",
              "      <td>Kata Informal: dgn</td>\n",
              "    </tr>\n",
              "    <tr>\n",
              "      <th>2</th>\n",
              "      <td>2</td>\n",
              "      <td>Kata Informal: org</td>\n",
              "    </tr>\n",
              "    <tr>\n",
              "      <th>3</th>\n",
              "      <td>3</td>\n",
              "      <td>Kata Informal: krn</td>\n",
              "    </tr>\n",
              "    <tr>\n",
              "      <th>4</th>\n",
              "      <td>4</td>\n",
              "      <td>Kata Informal: t.</td>\n",
              "    </tr>\n",
              "    <tr>\n",
              "      <th>...</th>\n",
              "      <td>...</td>\n",
              "      <td>...</td>\n",
              "    </tr>\n",
              "    <tr>\n",
              "      <th>2120</th>\n",
              "      <td>2120</td>\n",
              "      <td>Kata Informal: nih</td>\n",
              "    </tr>\n",
              "    <tr>\n",
              "      <th>2121</th>\n",
              "      <td>2121</td>\n",
              "      <td>Kata Informal: Alhamdulah</td>\n",
              "    </tr>\n",
              "    <tr>\n",
              "      <th>2122</th>\n",
              "      <td>2122</td>\n",
              "      <td>Kata Informal: bls</td>\n",
              "    </tr>\n",
              "    <tr>\n",
              "      <th>2123</th>\n",
              "      <td>2123</td>\n",
              "      <td>Kata Informal: disini</td>\n",
              "    </tr>\n",
              "    <tr>\n",
              "      <th>2124</th>\n",
              "      <td>2124</td>\n",
              "      <td>Kata Informal: gamas.</td>\n",
              "    </tr>\n",
              "  </tbody>\n",
              "</table>\n",
              "<p>2125 rows × 2 columns</p>\n",
              "</div>\n",
              "      <button class=\"colab-df-convert\" onclick=\"convertToInteractive('df-4d429097-a026-4c19-9aaa-d19438b993ee')\"\n",
              "              title=\"Convert this dataframe to an interactive table.\"\n",
              "              style=\"display:none;\">\n",
              "        \n",
              "  <svg xmlns=\"http://www.w3.org/2000/svg\" height=\"24px\"viewBox=\"0 0 24 24\"\n",
              "       width=\"24px\">\n",
              "    <path d=\"M0 0h24v24H0V0z\" fill=\"none\"/>\n",
              "    <path d=\"M18.56 5.44l.94 2.06.94-2.06 2.06-.94-2.06-.94-.94-2.06-.94 2.06-2.06.94zm-11 1L8.5 8.5l.94-2.06 2.06-.94-2.06-.94L8.5 2.5l-.94 2.06-2.06.94zm10 10l.94 2.06.94-2.06 2.06-.94-2.06-.94-.94-2.06-.94 2.06-2.06.94z\"/><path d=\"M17.41 7.96l-1.37-1.37c-.4-.4-.92-.59-1.43-.59-.52 0-1.04.2-1.43.59L10.3 9.45l-7.72 7.72c-.78.78-.78 2.05 0 2.83L4 21.41c.39.39.9.59 1.41.59.51 0 1.02-.2 1.41-.59l7.78-7.78 2.81-2.81c.8-.78.8-2.07 0-2.86zM5.41 20L4 18.59l7.72-7.72 1.47 1.35L5.41 20z\"/>\n",
              "  </svg>\n",
              "      </button>\n",
              "      \n",
              "  <style>\n",
              "    .colab-df-container {\n",
              "      display:flex;\n",
              "      flex-wrap:wrap;\n",
              "      gap: 12px;\n",
              "    }\n",
              "\n",
              "    .colab-df-convert {\n",
              "      background-color: #E8F0FE;\n",
              "      border: none;\n",
              "      border-radius: 50%;\n",
              "      cursor: pointer;\n",
              "      display: none;\n",
              "      fill: #1967D2;\n",
              "      height: 32px;\n",
              "      padding: 0 0 0 0;\n",
              "      width: 32px;\n",
              "    }\n",
              "\n",
              "    .colab-df-convert:hover {\n",
              "      background-color: #E2EBFA;\n",
              "      box-shadow: 0px 1px 2px rgba(60, 64, 67, 0.3), 0px 1px 3px 1px rgba(60, 64, 67, 0.15);\n",
              "      fill: #174EA6;\n",
              "    }\n",
              "\n",
              "    [theme=dark] .colab-df-convert {\n",
              "      background-color: #3B4455;\n",
              "      fill: #D2E3FC;\n",
              "    }\n",
              "\n",
              "    [theme=dark] .colab-df-convert:hover {\n",
              "      background-color: #434B5C;\n",
              "      box-shadow: 0px 1px 3px 1px rgba(0, 0, 0, 0.15);\n",
              "      filter: drop-shadow(0px 1px 2px rgba(0, 0, 0, 0.3));\n",
              "      fill: #FFFFFF;\n",
              "    }\n",
              "  </style>\n",
              "\n",
              "      <script>\n",
              "        const buttonEl =\n",
              "          document.querySelector('#df-4d429097-a026-4c19-9aaa-d19438b993ee button.colab-df-convert');\n",
              "        buttonEl.style.display =\n",
              "          google.colab.kernel.accessAllowed ? 'block' : 'none';\n",
              "\n",
              "        async function convertToInteractive(key) {\n",
              "          const element = document.querySelector('#df-4d429097-a026-4c19-9aaa-d19438b993ee');\n",
              "          const dataTable =\n",
              "            await google.colab.kernel.invokeFunction('convertToInteractive',\n",
              "                                                     [key], {});\n",
              "          if (!dataTable) return;\n",
              "\n",
              "          const docLinkHtml = 'Like what you see? Visit the ' +\n",
              "            '<a target=\"_blank\" href=https://colab.research.google.com/notebooks/data_table.ipynb>data table notebook</a>'\n",
              "            + ' to learn more about interactive tables.';\n",
              "          element.innerHTML = '';\n",
              "          dataTable['output_type'] = 'display_data';\n",
              "          await google.colab.output.renderOutput(dataTable, element);\n",
              "          const docLink = document.createElement('div');\n",
              "          docLink.innerHTML = docLinkHtml;\n",
              "          element.appendChild(docLink);\n",
              "        }\n",
              "      </script>\n",
              "    </div>\n",
              "  </div>\n",
              "  "
            ]
          },
          "metadata": {},
          "execution_count": 37
        }
      ],
      "source": [
        "res = pd.read_csv('/content/drive/MyDrive/ChatGPT/zero_shot_informal_inferred_3.csv')\n",
        "res"
      ]
    },
    {
      "cell_type": "code",
      "execution_count": null,
      "metadata": {
        "colab": {
          "base_uri": "https://localhost:8080/"
        },
        "id": "t1kK3xi8WSrt",
        "outputId": "79432c4f-bac7-4bd5-b136-ac2532466ea7"
      },
      "outputs": [
        {
          "output_type": "stream",
          "name": "stdout",
          "text": [
            "overall: 0.10164705882352941\n",
            "disemvoweling: 0.01674641148325359\n",
            "affixation: 0.060240963855421686\n",
            "shorten: 0.14473684210526316\n",
            "space-dash: 0.024305555555555556\n",
            "sound-alter: 0.22364217252396165\n",
            "acronym: 0.03684210526315789\n",
            "rev: 0.046511627906976744\n"
          ]
        }
      ],
      "source": [
        "eval(res, df)"
      ]
    },
    {
      "cell_type": "markdown",
      "metadata": {
        "id": "snmuuCzijlqw"
      },
      "source": [
        "### Few-**Shot**"
      ]
    },
    {
      "cell_type": "code",
      "execution_count": null,
      "metadata": {
        "colab": {
          "base_uri": "https://localhost:8080/"
        },
        "id": "oHlJeBG4WWR4",
        "outputId": "3a818016-dc89-4fb2-9e4d-04c654e0f6d1"
      },
      "outputs": [
        {
          "output_type": "stream",
          "name": "stdout",
          "text": [
            "Ubah kata yang diberikan dengan menghapus beberapa atau semua vokal. Contohnya adalah kemarin -> kmrn, belum -> blum, besok -> bsk.\n",
            "Kata anda adalah 'dengan'\n",
            "Question 1/2125 Completed\n",
            "RateLimitError 1, waiting\n",
            "Question 213/2125 Completed\n",
            "Question 425/2125 Completed\n",
            "Question 637/2125 Completed\n",
            "Question 849/2125 Completed\n",
            "Question 1061/2125 Completed\n",
            "Question 1273/2125 Completed\n",
            "Question 1485/2125 Completed\n",
            "Question 1697/2125 Completed\n",
            "Question 1909/2125 Completed\n",
            "Question 2121/2125 Completed\n",
            "Iteration 1 Completed\n"
          ]
        }
      ],
      "source": [
        "infer_FI_few = True\n",
        "if infer_FI_few:   \n",
        "    order = \"Buatlah bentuk informal yang sering dipakai dalam percakapan sehari-hari dari sebuah kata berikut. Jawablah hanya dengan kata informal yang dimaksud dan jangan berikan penjelasan dari jawaban anda. Jawab dengan format 'Kata Informal: <jawaban>'\"\n",
        "\n",
        "    words = df['original-for'].values\n",
        "    methods = df['transformation'].values\n",
        "    questions = []\n",
        "\n",
        "    for i in range(len(words)):\n",
        "        questions.append(f\"Ubah kata yang diberikan dengan {desc[methods[i]]}. Contohnya adalah {examples[methods[i]]}.\\nKata anda adalah '{words[i]}'\")\n",
        "\n",
        "    print(questions[1])\n",
        "\n",
        "    res = infer(order=order, \n",
        "                questions=questions, \n",
        "                iteration=1)\n",
        "\n",
        "    res\n",
        "    res.to_csv('/content/drive/MyDrive/ChatGPT/few_shot_informal_inferred_3.csv')"
      ]
    },
    {
      "cell_type": "code",
      "execution_count": null,
      "metadata": {
        "colab": {
          "base_uri": "https://localhost:8080/",
          "height": 424
        },
        "id": "6Qpark6nWYRo",
        "outputId": "3dfe4a7a-5f19-4598-a530-a87ad7e4030d"
      },
      "outputs": [
        {
          "output_type": "execute_result",
          "data": {
            "text/plain": [
              "      Unnamed: 0                          1\n",
              "0              0       Kata Informal: sampe\n",
              "1              1         Kata Informal: dgn\n",
              "2              2         Kata Informal: org\n",
              "3              3         Kata Informal: krn\n",
              "4              4         Kata Informal: tuh\n",
              "...          ...                        ...\n",
              "2120        2120         Kata Informal: nih\n",
              "2121        2121  Kata Informal: Alhamdulah\n",
              "2122        2122         Kata Informal: bls\n",
              "2123        2123      Kata Informal: disini\n",
              "2124        2124      Kata Informal: gamau.\n",
              "\n",
              "[2125 rows x 2 columns]"
            ],
            "text/html": [
              "\n",
              "  <div id=\"df-c6333517-351c-48c5-9b97-dbfe86a4a335\">\n",
              "    <div class=\"colab-df-container\">\n",
              "      <div>\n",
              "<style scoped>\n",
              "    .dataframe tbody tr th:only-of-type {\n",
              "        vertical-align: middle;\n",
              "    }\n",
              "\n",
              "    .dataframe tbody tr th {\n",
              "        vertical-align: top;\n",
              "    }\n",
              "\n",
              "    .dataframe thead th {\n",
              "        text-align: right;\n",
              "    }\n",
              "</style>\n",
              "<table border=\"1\" class=\"dataframe\">\n",
              "  <thead>\n",
              "    <tr style=\"text-align: right;\">\n",
              "      <th></th>\n",
              "      <th>Unnamed: 0</th>\n",
              "      <th>1</th>\n",
              "    </tr>\n",
              "  </thead>\n",
              "  <tbody>\n",
              "    <tr>\n",
              "      <th>0</th>\n",
              "      <td>0</td>\n",
              "      <td>Kata Informal: sampe</td>\n",
              "    </tr>\n",
              "    <tr>\n",
              "      <th>1</th>\n",
              "      <td>1</td>\n",
              "      <td>Kata Informal: dgn</td>\n",
              "    </tr>\n",
              "    <tr>\n",
              "      <th>2</th>\n",
              "      <td>2</td>\n",
              "      <td>Kata Informal: org</td>\n",
              "    </tr>\n",
              "    <tr>\n",
              "      <th>3</th>\n",
              "      <td>3</td>\n",
              "      <td>Kata Informal: krn</td>\n",
              "    </tr>\n",
              "    <tr>\n",
              "      <th>4</th>\n",
              "      <td>4</td>\n",
              "      <td>Kata Informal: tuh</td>\n",
              "    </tr>\n",
              "    <tr>\n",
              "      <th>...</th>\n",
              "      <td>...</td>\n",
              "      <td>...</td>\n",
              "    </tr>\n",
              "    <tr>\n",
              "      <th>2120</th>\n",
              "      <td>2120</td>\n",
              "      <td>Kata Informal: nih</td>\n",
              "    </tr>\n",
              "    <tr>\n",
              "      <th>2121</th>\n",
              "      <td>2121</td>\n",
              "      <td>Kata Informal: Alhamdulah</td>\n",
              "    </tr>\n",
              "    <tr>\n",
              "      <th>2122</th>\n",
              "      <td>2122</td>\n",
              "      <td>Kata Informal: bls</td>\n",
              "    </tr>\n",
              "    <tr>\n",
              "      <th>2123</th>\n",
              "      <td>2123</td>\n",
              "      <td>Kata Informal: disini</td>\n",
              "    </tr>\n",
              "    <tr>\n",
              "      <th>2124</th>\n",
              "      <td>2124</td>\n",
              "      <td>Kata Informal: gamau.</td>\n",
              "    </tr>\n",
              "  </tbody>\n",
              "</table>\n",
              "<p>2125 rows × 2 columns</p>\n",
              "</div>\n",
              "      <button class=\"colab-df-convert\" onclick=\"convertToInteractive('df-c6333517-351c-48c5-9b97-dbfe86a4a335')\"\n",
              "              title=\"Convert this dataframe to an interactive table.\"\n",
              "              style=\"display:none;\">\n",
              "        \n",
              "  <svg xmlns=\"http://www.w3.org/2000/svg\" height=\"24px\"viewBox=\"0 0 24 24\"\n",
              "       width=\"24px\">\n",
              "    <path d=\"M0 0h24v24H0V0z\" fill=\"none\"/>\n",
              "    <path d=\"M18.56 5.44l.94 2.06.94-2.06 2.06-.94-2.06-.94-.94-2.06-.94 2.06-2.06.94zm-11 1L8.5 8.5l.94-2.06 2.06-.94-2.06-.94L8.5 2.5l-.94 2.06-2.06.94zm10 10l.94 2.06.94-2.06 2.06-.94-2.06-.94-.94-2.06-.94 2.06-2.06.94z\"/><path d=\"M17.41 7.96l-1.37-1.37c-.4-.4-.92-.59-1.43-.59-.52 0-1.04.2-1.43.59L10.3 9.45l-7.72 7.72c-.78.78-.78 2.05 0 2.83L4 21.41c.39.39.9.59 1.41.59.51 0 1.02-.2 1.41-.59l7.78-7.78 2.81-2.81c.8-.78.8-2.07 0-2.86zM5.41 20L4 18.59l7.72-7.72 1.47 1.35L5.41 20z\"/>\n",
              "  </svg>\n",
              "      </button>\n",
              "      \n",
              "  <style>\n",
              "    .colab-df-container {\n",
              "      display:flex;\n",
              "      flex-wrap:wrap;\n",
              "      gap: 12px;\n",
              "    }\n",
              "\n",
              "    .colab-df-convert {\n",
              "      background-color: #E8F0FE;\n",
              "      border: none;\n",
              "      border-radius: 50%;\n",
              "      cursor: pointer;\n",
              "      display: none;\n",
              "      fill: #1967D2;\n",
              "      height: 32px;\n",
              "      padding: 0 0 0 0;\n",
              "      width: 32px;\n",
              "    }\n",
              "\n",
              "    .colab-df-convert:hover {\n",
              "      background-color: #E2EBFA;\n",
              "      box-shadow: 0px 1px 2px rgba(60, 64, 67, 0.3), 0px 1px 3px 1px rgba(60, 64, 67, 0.15);\n",
              "      fill: #174EA6;\n",
              "    }\n",
              "\n",
              "    [theme=dark] .colab-df-convert {\n",
              "      background-color: #3B4455;\n",
              "      fill: #D2E3FC;\n",
              "    }\n",
              "\n",
              "    [theme=dark] .colab-df-convert:hover {\n",
              "      background-color: #434B5C;\n",
              "      box-shadow: 0px 1px 3px 1px rgba(0, 0, 0, 0.15);\n",
              "      filter: drop-shadow(0px 1px 2px rgba(0, 0, 0, 0.3));\n",
              "      fill: #FFFFFF;\n",
              "    }\n",
              "  </style>\n",
              "\n",
              "      <script>\n",
              "        const buttonEl =\n",
              "          document.querySelector('#df-c6333517-351c-48c5-9b97-dbfe86a4a335 button.colab-df-convert');\n",
              "        buttonEl.style.display =\n",
              "          google.colab.kernel.accessAllowed ? 'block' : 'none';\n",
              "\n",
              "        async function convertToInteractive(key) {\n",
              "          const element = document.querySelector('#df-c6333517-351c-48c5-9b97-dbfe86a4a335');\n",
              "          const dataTable =\n",
              "            await google.colab.kernel.invokeFunction('convertToInteractive',\n",
              "                                                     [key], {});\n",
              "          if (!dataTable) return;\n",
              "\n",
              "          const docLinkHtml = 'Like what you see? Visit the ' +\n",
              "            '<a target=\"_blank\" href=https://colab.research.google.com/notebooks/data_table.ipynb>data table notebook</a>'\n",
              "            + ' to learn more about interactive tables.';\n",
              "          element.innerHTML = '';\n",
              "          dataTable['output_type'] = 'display_data';\n",
              "          await google.colab.output.renderOutput(dataTable, element);\n",
              "          const docLink = document.createElement('div');\n",
              "          docLink.innerHTML = docLinkHtml;\n",
              "          element.appendChild(docLink);\n",
              "        }\n",
              "      </script>\n",
              "    </div>\n",
              "  </div>\n",
              "  "
            ]
          },
          "metadata": {},
          "execution_count": 40
        }
      ],
      "source": [
        "res = pd.read_csv('/content/drive/MyDrive/ChatGPT/few_shot_informal_inferred_3.csv')\n",
        "res"
      ]
    },
    {
      "cell_type": "code",
      "execution_count": null,
      "metadata": {
        "colab": {
          "base_uri": "https://localhost:8080/"
        },
        "id": "shysSQWoWZpK",
        "outputId": "db7de14c-7f46-4368-e0bb-7cc313f8f80e"
      },
      "outputs": [
        {
          "output_type": "stream",
          "name": "stdout",
          "text": [
            "overall: 0.1312941176470588\n",
            "disemvoweling: 0.06698564593301436\n",
            "affixation: 0.09337349397590361\n",
            "shorten: 0.11403508771929824\n",
            "space-dash: 0.017361111111111112\n",
            "sound-alter: 0.2715654952076677\n",
            "acronym: 0.010526315789473684\n",
            "rev: 0.3953488372093023\n"
          ]
        }
      ],
      "source": [
        "eval(res, df)"
      ]
    },
    {
      "cell_type": "markdown",
      "source": [
        "#Results"
      ],
      "metadata": {
        "id": "uJPtYyiKZWFL"
      }
    },
    {
      "cell_type": "code",
      "source": [
        "res = pd.read_csv(f\"/content/drive/MyDrive/ChatGPT/few_shot_informal_inferred_3.csv\")\n",
        "eval(res, df)"
      ],
      "metadata": {
        "colab": {
          "base_uri": "https://localhost:8080/"
        },
        "id": "S6eAKPWAcEn-",
        "outputId": "4517e22f-d884-4eba-fe78-8d8f1227cb26"
      },
      "execution_count": null,
      "outputs": [
        {
          "output_type": "stream",
          "name": "stdout",
          "text": [
            "overall: 0.1312941176470588\n",
            "disemvoweling: 0.06698564593301436\n",
            "affixation: 0.09337349397590361\n",
            "shorten: 0.11403508771929824\n",
            "space-dash: 0.017361111111111112\n",
            "sound-alter: 0.2715654952076677\n",
            "acronym: 0.010526315789473684\n",
            "rev: 0.3953488372093023\n"
          ]
        }
      ]
    },
    {
      "cell_type": "code",
      "source": [],
      "metadata": {
        "id": "PzTmAt_EiyP1"
      },
      "execution_count": null,
      "outputs": []
    }
  ],
  "metadata": {
    "colab": {
      "provenance": [],
      "collapsed_sections": [
        "DlzuSixln5lY",
        "4ffH7d8xjXy-",
        "1cUvfSX8jiXu",
        "snmuuCzijlqw",
        "uJPtYyiKZWFL"
      ]
    },
    "kernelspec": {
      "display_name": "Python 3",
      "name": "python3"
    },
    "language_info": {
      "name": "python"
    }
  },
  "nbformat": 4,
  "nbformat_minor": 0
}